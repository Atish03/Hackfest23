{
 "cells": [
  {
   "cell_type": "code",
   "execution_count": null,
   "id": "f42ef49d",
   "metadata": {},
   "outputs": [],
   "source": [
    "#!/usr/bin/env python3\n",
    "\n",
    "import time\n",
    "import threading\n",
    "import speech_recognition as sr\n",
    "\n",
    "\n",
    "def main():\n",
    "    # Initialize the recognizer and microphone objects\n",
    "    r = sr.Recognizer()\n",
    "    m = sr.Microphone()\n",
    "\n",
    "    # Adjust for ambient noise\n",
    "    with m as source:\n",
    "        r.adjust_for_ambient_noise(source)\n",
    "\n",
    "    # Define a flag to indicate if the program is still running\n",
    "    running = True\n",
    "\n",
    "    # Define the callback function to handle speech recognition results\n",
    "    def callback(recognizer, audio):\n",
    "        nonlocal running\n",
    "\n",
    "        try:\n",
    "            # Use Google Speech Recognition to recognize the audio\n",
    "            result = recognizer.recognize_google(audio)\n",
    "            print(\"You said: \" + result)\n",
    "\n",
    "            # Check if the user wants to stop the program\n",
    "            if result.lower() in [\"stop\", \"exit\"]:\n",
    "                running = False\n",
    "        except sr.UnknownValueError:\n",
    "            print(\"Google Speech Recognition could not understand audio\")\n",
    "        except sr.RequestError as e:\n",
    "            print(\"Could not request results from Google Speech Recognition service; {0}\".format(e))\n",
    "\n",
    "    # Start a separate thread to handle speech recognition\n",
    "    stop_listening = r.listen_in_background(m, callback)\n",
    "\n",
    "    # Wait for the user to say \"stop\" or \"exit\"\n",
    "    while running:\n",
    "        try:\n",
    "            time.sleep(0.1)\n",
    "        except KeyboardInterrupt:\n",
    "            # Cleanly exit the program if the user presses Ctrl+C\n",
    "            running = False\n",
    "\n",
    "    # Stop listening and wait for the background thread to finish\n",
    "    stop_listening(wait_for_stop=True)\n",
    "\n",
    "\n",
    "if __name__ == '__main__':\n",
    "    main()\n"
   ]
  }
 ],
 "metadata": {
  "kernelspec": {
   "display_name": "Python (DeepL)",
   "language": "python",
   "name": "deepl"
  },
  "language_info": {
   "codemirror_mode": {
    "name": "ipython",
    "version": 3
   },
   "file_extension": ".py",
   "mimetype": "text/x-python",
   "name": "python",
   "nbconvert_exporter": "python",
   "pygments_lexer": "ipython3",
   "version": "3.8.15"
  }
 },
 "nbformat": 4,
 "nbformat_minor": 5
}
